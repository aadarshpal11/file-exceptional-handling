{
 "cells": [
  {
   "cell_type": "markdown",
   "id": "8a3352fc-e821-4b12-8d22-27bbdcd65951",
   "metadata": {},
   "source": [
    "1. Discuss the scenarios where multithreading is preferable to multiprocessing and scenarios where multiprocessing is a better choice."
   ]
  },
  {
   "cell_type": "code",
   "execution_count": 3,
   "id": "b62f0244-c41c-46c0-9fb7-d6b7ba96e3a9",
   "metadata": {},
   "outputs": [],
   "source": [
    "#Both multithreading and multiprocessing are techniques used to achieve parallelism \n",
    "#and improve the performance of applications by allowing multiple tasks to be executed concurrently. \n",
    "#However, they have different strengths and are suitable for different types of tasks.\n",
    "\n",
    "#Multithreading is best for \n",
    "#I/O-bound tasks, \n",
    "#situations requiring shared memory, lower overhead, \n",
    "#or real-time responsiveness.\n",
    "\n",
    "#Multiprocessing is better suited for \n",
    "#CPU-bound tasks, \n",
    "#scenarios requiring memory isolation, \n",
    "#fault tolerance, \n",
    "#or when you need to bypass limitations like Python’s GIL."
   ]
  },
  {
   "cell_type": "markdown",
   "id": "0ccff28a-1742-4ab6-9fc5-fa8a9d538a9e",
   "metadata": {},
   "source": [
    "2. Describe what a process pool is and how it helps in managing multiple processes efficiently."
   ]
  },
  {
   "cell_type": "code",
   "execution_count": 4,
   "id": "c919d9d0-aa33-4cf8-98bb-a7ec34e47a67",
   "metadata": {},
   "outputs": [],
   "source": [
    "#A process pool is a collection of worker processes that are maintained to perform tasks in parallel.\n",
    "#This approach is particularly efficient for executing a large number of tasks that can be processed concurrently.\n",
    "\n",
    "#Benefits of Using a Process Pool\n",
    "#Reduced Overhead\n",
    "#Efficient Resource Utilization\n",
    "#Simplified Parallelism\n",
    "#Scalability\n",
    "#manages the distribution of tasks, execution, and collection of results."
   ]
  },
  {
   "cell_type": "markdown",
   "id": "9b73b18d-c6f9-4e57-96e6-b53359d4c311",
   "metadata": {},
   "source": [
    "3. Explain what multiprocessing is and why it is used in Python programs."
   ]
  },
  {
   "cell_type": "code",
   "execution_count": 5,
   "id": "2aa282e2-90c2-4dbd-9bc7-00c5f14c5adc",
   "metadata": {},
   "outputs": [],
   "source": [
    "#Multiprocessing is a technique that allows a program to run multiple processes simultaneously.\n",
    "#Each process runs independently, which means they do not interfere with each other \n",
    "#and can fully utilize the CPU cores available on a machine.\n",
    "\n",
    "#Why is Multiprocessing Used in Python Programs?\n",
    "#Overcoming the Global Interpreter Lock (GIL)\n",
    "#Parallel Execution of CPU-Bound Tasks\n",
    "#Isolation and Fault Tolerance\n",
    "#Efficient Use of Resources\n",
    "#Simplified Parallel Programming"
   ]
  },
  {
   "cell_type": "markdown",
   "id": "bd6b307b-f15b-4575-83d2-5a830dd1c48b",
   "metadata": {},
   "source": [
    "4. Write a Python program using multithreading where one thread adds numbers to a list, and another thread removes numbers from the list.Implement a mechanism to avoid race conditions using threading.Lock."
   ]
  },
  {
   "cell_type": "code",
   "execution_count": 6,
   "id": "960e9705-62de-45a4-863a-134008388d3b",
   "metadata": {},
   "outputs": [
    {
     "name": "stdout",
     "output_type": "stream",
     "text": [
      "List is empty, nothing to remove.\n",
      "Added 20 to the list. Current list: [20]\n",
      "Removed 20 from the list. Current list: []\n",
      "Added 49 to the list. Current list: [49]\n",
      "Removed 49 from the list. Current list: []\n",
      "Added 79 to the list. Current list: [79]\n",
      "Added 93 to the list. Current list: [79, 93]\n",
      "Removed 79 from the list. Current list: [93]\n",
      "Removed 93 from the list. Current list: []\n",
      "Added 100 to the list. Current list: [100]\n",
      "Removed 100 from the list. Current list: []\n",
      "Added 78 to the list. Current list: [78]\n",
      "Removed 78 from the list. Current list: []\n",
      "Added 16 to the list. Current list: [16]\n",
      "Added 59 to the list. Current list: [16, 59]\n",
      "Removed 16 from the list. Current list: [59]\n",
      "Removed 59 from the list. Current list: []\n",
      "Added 18 to the list. Current list: [18]\n",
      "Removed 18 from the list. Current list: []\n",
      "Added 7 to the list. Current list: [7]\n",
      "Final list: [7]\n"
     ]
    }
   ],
   "source": [
    "import threading\n",
    "import time\n",
    "import random\n",
    "\n",
    "shared_list = []\n",
    "list_lock = threading.Lock()\n",
    "\n",
    "def add_numbers():\n",
    "    for i in range(10):\n",
    "        time.sleep(random.uniform(0.1, 0.5)) \n",
    "        number = random.randint(1, 100)\n",
    "        with list_lock:\n",
    "            shared_list.append(number)\n",
    "            print(f\"Added {number} to the list. Current list: {shared_list}\")\n",
    "\n",
    "def remove_numbers():\n",
    "    for i in range(10):\n",
    "        time.sleep(random.uniform(0.1, 0.5))  \n",
    "        with list_lock:\n",
    "            if shared_list:\n",
    "                removed_number = shared_list.pop(0)\n",
    "                print(f\"Removed {removed_number} from the list. Current list: {shared_list}\")\n",
    "            else:\n",
    "                print(\"List is empty, nothing to remove.\")\n",
    "\n",
    "adder_thread = threading.Thread(target=add_numbers)\n",
    "remover_thread = threading.Thread(target=remove_numbers)\n",
    "adder_thread.start()\n",
    "remover_thread.start()\n",
    "\n",
    "adder_thread.join()\n",
    "remover_thread.join()\n",
    "print(\"Final list:\", shared_list)"
   ]
  },
  {
   "cell_type": "markdown",
   "id": "0abdfded-6771-4adb-bd1f-0643501e1515",
   "metadata": {},
   "source": [
    "5. Describe the methods and tools available in Python for safely sharing data between threads and processes."
   ]
  },
  {
   "cell_type": "code",
   "execution_count": 7,
   "id": "d130872e-0c5f-43be-bb18-740723e5abba",
   "metadata": {},
   "outputs": [],
   "source": [
    "#Python provides several methods and tools to facilitate safe data sharing between threads and processes.\n",
    "\n",
    "#Sharing Data Between Threads>>\n",
    "#Threads share the same memory space within a single process, which makes data sharing easier but also riskier because of potential race conditions.\n",
    "#threading.Lock:When a thread acquires the lock, other threads are blocked from accessing the resource until the lock is released.\n",
    "#threading.RLock:Useful when a thread might need to acquire the same lock multiple times within a nested function or recursive calls.\n",
    "#threading.Condition:Threads can wait for a condition to be signaled, making it useful for coordinating complex interactions between threads.\n",
    "#threading.Semaphore:Useful when you want to limit the number of threads that can access a resource, like limiting concurrent database connections.\n",
    "#threading.Event:Useful for implementing a simple flag that can pause and resume threads.\n",
    "\n",
    "#Sharing Data Between Processes>>\n",
    "#Sharing data between processes is more complex because each process has its own separate memory space.\n",
    "#multiprocessing.Queue:Processes can safely put items into and get items from the queue without needing additional locks.\n",
    "#multiprocessing.Manager:The manager handles the complexity of sharing data between processes.\n",
    "#multiprocessing.Value and multiprocessing.Array:These objects are particularly useful when you need to share simple data between processes.\n",
    "#multiprocessing.Pipe:Useful for direct communication between two processes."
   ]
  },
  {
   "cell_type": "markdown",
   "id": "b8ae3b88-2511-4bdf-9c5b-d81dd8123314",
   "metadata": {},
   "source": [
    "6. Discuss why it’s crucial to handle exceptions in concurrent programs and the techniques available for doing so."
   ]
  },
  {
   "cell_type": "code",
   "execution_count": 8,
   "id": "6052e59f-1460-4f6b-abb9-aa7710dcb3bf",
   "metadata": {},
   "outputs": [
    {
     "name": "stdout",
     "output_type": "stream",
     "text": [
      "Caught exception in thread: An error occurred\n"
     ]
    }
   ],
   "source": [
    "#Why Exception Handling is Crucial in Concurrent Programs\n",
    "#Maintaining Data Integrity\n",
    "#Preventing Resource Leaks\n",
    "#Avoiding Deadlocks and Starvation\n",
    "#Ensuring Program Stability\n",
    "\n",
    "\n",
    "#Techniques for Handling Exceptions in Concurrent Programs\n",
    "#Try-Except Blocks in Threads and Processes\n",
    "import threading\n",
    "\n",
    "def thread_function():\n",
    "    try:\n",
    "        raise ValueError(\"An error occurred\")\n",
    "    except ValueError as e:\n",
    "        print(f\"Caught exception in thread: {e}\")\n",
    "\n",
    "thread = threading.Thread(target=thread_function)\n",
    "thread.start()\n",
    "thread.join()"
   ]
  },
  {
   "cell_type": "markdown",
   "id": "e57c0eca-f5ea-42b4-b3b9-7df290dddd48",
   "metadata": {},
   "source": [
    "7. Create a program that uses a thread pool to calculate the factorial of numbers from 1 to 10 concurrently. Use concurrent.futures.ThreadPoolExecutor to manage the threads."
   ]
  },
  {
   "cell_type": "code",
   "execution_count": 9,
   "id": "2af1ffbe-d557-49c0-b5e0-1e3c714c7fe6",
   "metadata": {},
   "outputs": [
    {
     "name": "stdout",
     "output_type": "stream",
     "text": [
      "Factorial of 6 is 720\n",
      "Factorial of 5 is 120\n",
      "Factorial of 9 is 362880\n",
      "Factorial of 10 is 3628800\n",
      "Factorial of 1 is 1\n",
      "Factorial of 8 is 40320\n",
      "Factorial of 3 is 6\n",
      "Factorial of 7 is 5040\n",
      "Factorial of 2 is 2\n",
      "Factorial of 4 is 24\n"
     ]
    }
   ],
   "source": [
    "from concurrent.futures import ThreadPoolExecutor, as_completed\n",
    "import math\n",
    "\n",
    "def calculate_factorial(n):\n",
    "    \"\"\"Function to calculate the factorial of a given number.\"\"\"\n",
    "    return math.factorial(n)\n",
    "\n",
    "if __name__ == \"__main__\":\n",
    "    numbers = range(1, 11) \n",
    "\n",
    "    with ThreadPoolExecutor(max_workers=5) as executor:\n",
    "        futures = {executor.submit(calculate_factorial, num): num for num in numbers}\n",
    "\n",
    "        for future in as_completed(futures):\n",
    "            num = futures[future]\n",
    "            try:\n",
    "                result = future.result()\n",
    "                print(f\"Factorial of {num} is {result}\")\n",
    "            except Exception as e:\n",
    "                print(f\"Exception occurred while calculating factorial of {num}: {e}\")"
   ]
  },
  {
   "cell_type": "markdown",
   "id": "075f2237-94a4-44ac-9cbf-5b034afeba08",
   "metadata": {},
   "source": [
    "8. Create a Python program that uses multiprocessing.Pool to compute the square of numbers from 1 to 10 in parallel. Measure the time taken to perform this computation using a pool of different sizes (e.g., 2, 4, 8 processes)."
   ]
  },
  {
   "cell_type": "code",
   "execution_count": 10,
   "id": "08f8b48f-1874-4c5f-8b09-49e605178168",
   "metadata": {},
   "outputs": [
    {
     "name": "stdout",
     "output_type": "stream",
     "text": [
      "Pool size: 2, Results: [1, 4, 9, 16, 25, 36, 49, 64, 81, 100], Time taken: 0.0277 seconds\n",
      "Pool size: 4, Results: [1, 4, 9, 16, 25, 36, 49, 64, 81, 100], Time taken: 0.0384 seconds\n",
      "Pool size: 8, Results: [1, 4, 9, 16, 25, 36, 49, 64, 81, 100], Time taken: 0.0659 seconds\n"
     ]
    }
   ],
   "source": [
    "import multiprocessing\n",
    "import time\n",
    "\n",
    "def compute_square(n):\n",
    "    \"\"\"Function to compute the square of a number.\"\"\"\n",
    "    return n * n\n",
    "def measure_time(pool_size, numbers):\n",
    "    \"\"\"Function to measure the time taken to compute squares using a pool of a given size.\"\"\"\n",
    "    start_time = time.time()\n",
    "\n",
    "    with multiprocessing.Pool(pool_size) as pool:\n",
    "        results = pool.map(compute_square, numbers)\n",
    "    end_time = time.time()\n",
    "    duration = end_time - start_time\n",
    "    return results, duration\n",
    "if __name__ == \"__main__\":\n",
    "    numbers = list(range(1, 11))\n",
    "    pool_sizes = [2, 4, 8]  \n",
    "\n",
    "    for size in pool_sizes:\n",
    "        results, duration = measure_time(size, numbers)\n",
    "        print(f\"Pool size: {size}, Results: {results}, Time taken: {duration:.4f} seconds\")"
   ]
  },
  {
   "cell_type": "code",
   "execution_count": null,
   "id": "ff4654fd-7282-43fe-b295-4ebdb683440e",
   "metadata": {},
   "outputs": [],
   "source": []
  }
 ],
 "metadata": {
  "kernelspec": {
   "display_name": "Python 3 (ipykernel)",
   "language": "python",
   "name": "python3"
  },
  "language_info": {
   "codemirror_mode": {
    "name": "ipython",
    "version": 3
   },
   "file_extension": ".py",
   "mimetype": "text/x-python",
   "name": "python",
   "nbconvert_exporter": "python",
   "pygments_lexer": "ipython3",
   "version": "3.10.8"
  }
 },
 "nbformat": 4,
 "nbformat_minor": 5
}
